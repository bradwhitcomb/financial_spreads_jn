{
 "cells": [
  {
   "cell_type": "markdown",
   "metadata": {},
   "source": [
    "# Spreading public financial data using a jupyter notebook\n",
    "### -  import data from SimFin in a csv file\n",
    "### -  create smaller dataframes from the primary dataframe for P&L, BS and CF"
   ]
  },
  {
   "cell_type": "code",
   "execution_count": 7,
   "metadata": {},
   "outputs": [],
   "source": [
    "import pandas as pd"
   ]
  },
  {
   "cell_type": "code",
   "execution_count": 8,
   "metadata": {},
   "outputs": [],
   "source": [
    "df = pd.read_excel('SimFin-appl(1).xlsx')"
   ]
  },
  {
   "cell_type": "code",
   "execution_count": 41,
   "metadata": {},
   "outputs": [],
   "source": [
    "row_pl = df[df['Data provided by SimFin']== 'Profit & Loss statement'].index[0]\n",
    "row_bs = df[df['Data provided by SimFin'] == 'Balance Sheet'].index[0]\n",
    "row_cf = df[df['Data provided by SimFin']== 'Cash Flow statement'].index[0]"
   ]
  },
  {
   "cell_type": "code",
   "execution_count": 44,
   "metadata": {},
   "outputs": [
    {
     "name": "stdout",
     "output_type": "stream",
     "text": [
      "1 15 49\n"
     ]
    }
   ],
   "source": [
    "print(row_pl, row_bs, row_cf)"
   ]
  },
  {
   "cell_type": "code",
   "execution_count": null,
   "metadata": {},
   "outputs": [],
   "source": [
    "# index_PL = int(df.loc[df[\"Data provided by SimFin\"]== \"Profit & Loss statement\"].index[0])\n",
    "# index_BS = df.loc[df['Data provided by SimFin']== \"Balance Sheet\"].index[0]\n",
    "# index_CF = df.loc[df['Data provided by SimFin']== \"Cash Flow statement\"].index[0]\n"
   ]
  }
 ],
 "metadata": {
  "kernelspec": {
   "display_name": "Python 3",
   "language": "python",
   "name": "python3"
  },
  "language_info": {
   "codemirror_mode": {
    "name": "ipython",
    "version": 3
   },
   "file_extension": ".py",
   "mimetype": "text/x-python",
   "name": "python",
   "nbconvert_exporter": "python",
   "pygments_lexer": "ipython3",
   "version": "3.6.4"
  }
 },
 "nbformat": 4,
 "nbformat_minor": 2
}
